{
  "nbformat": 4,
  "nbformat_minor": 0,
  "metadata": {
    "colab": {
      "provenance": [],
      "collapsed_sections": [
        "PBq3WgYQmtgc"
      ],
      "include_colab_link": true
    },
    "kernelspec": {
      "name": "python3",
      "display_name": "Python 3"
    },
    "language_info": {
      "name": "python"
    }
  },
  "cells": [
    {
      "cell_type": "markdown",
      "metadata": {
        "id": "view-in-github",
        "colab_type": "text"
      },
      "source": [
        "<a href=\"https://colab.research.google.com/github/JayMalde/Deep-Learning-QA-Project/blob/main/QnA_based_on_Finacial_data.ipynb\" target=\"_parent\"><img src=\"https://colab.research.google.com/assets/colab-badge.svg\" alt=\"Open In Colab\"/></a>"
      ]
    },
    {
      "cell_type": "code",
      "metadata": {
        "id": "m7YXsjQlT0We"
      },
      "source": [
        "import pandas as pd"
      ],
      "execution_count": null,
      "outputs": []
    },
    {
      "cell_type": "code",
      "metadata": {
        "id": "eLSJi4EjRkVZ",
        "colab": {
          "base_uri": "https://localhost:8080/"
        },
        "outputId": "6224108c-a794-4947-bb86-9388aed77db9"
      },
      "source": [
        "from google.colab import drive\n",
        "drive.mount('/content/gdrive')"
      ],
      "execution_count": null,
      "outputs": [
        {
          "output_type": "stream",
          "name": "stdout",
          "text": [
            "Mounted at /content/gdrive\n"
          ]
        }
      ]
    },
    {
      "cell_type": "code",
      "metadata": {
        "id": "MtktIe3rT1Y7",
        "colab": {
          "base_uri": "https://localhost:8080/"
        },
        "outputId": "0e64bea7-db43-4cb4-fc9a-f271779650cf"
      },
      "source": [
        "%cd /content/gdrive/MyDrive/DL Project"
      ],
      "execution_count": null,
      "outputs": [
        {
          "output_type": "stream",
          "name": "stdout",
          "text": [
            "/content/gdrive/MyDrive/DL Project\n"
          ]
        }
      ]
    },
    {
      "cell_type": "code",
      "metadata": {
        "id": "cMwEv8ETUDU6",
        "colab": {
          "base_uri": "https://localhost:8080/",
          "height": 204
        },
        "outputId": "c0090565-0d26-4de2-db06-e4daf45deadc"
      },
      "source": [
        "data = pd.read_csv(\"FiQA_train_doc_final.tsv\",delimiter=\"\\t\")\n",
        "data.head()"
      ],
      "execution_count": null,
      "outputs": [
        {
          "output_type": "execute_result",
          "data": {
            "text/html": [
              "<div>\n",
              "<style scoped>\n",
              "    .dataframe tbody tr th:only-of-type {\n",
              "        vertical-align: middle;\n",
              "    }\n",
              "\n",
              "    .dataframe tbody tr th {\n",
              "        vertical-align: top;\n",
              "    }\n",
              "\n",
              "    .dataframe thead th {\n",
              "        text-align: right;\n",
              "    }\n",
              "</style>\n",
              "<table border=\"1\" class=\"dataframe\">\n",
              "  <thead>\n",
              "    <tr style=\"text-align: right;\">\n",
              "      <th></th>\n",
              "      <th>Unnamed: 0</th>\n",
              "      <th>docid</th>\n",
              "      <th>doc</th>\n",
              "      <th>timestamp</th>\n",
              "    </tr>\n",
              "  </thead>\n",
              "  <tbody>\n",
              "    <tr>\n",
              "      <th>0</th>\n",
              "      <td>0</td>\n",
              "      <td>3</td>\n",
              "      <td>I'm not saying I don't like the idea of on-the...</td>\n",
              "      <td>Oct 03 '12 at 14:56</td>\n",
              "    </tr>\n",
              "    <tr>\n",
              "      <th>1</th>\n",
              "      <td>1</td>\n",
              "      <td>31</td>\n",
              "      <td>So nothing preventing false ratings besides ad...</td>\n",
              "      <td>Sep 01 '17 at 13:36</td>\n",
              "    </tr>\n",
              "    <tr>\n",
              "      <th>2</th>\n",
              "      <td>2</td>\n",
              "      <td>56</td>\n",
              "      <td>You can never use a health FSA for individual ...</td>\n",
              "      <td>Jun 9 '14 at 17:37</td>\n",
              "    </tr>\n",
              "    <tr>\n",
              "      <th>3</th>\n",
              "      <td>3</td>\n",
              "      <td>59</td>\n",
              "      <td>Samsung created the LCD and other flat screen ...</td>\n",
              "      <td>Dec 27 at 01:37</td>\n",
              "    </tr>\n",
              "    <tr>\n",
              "      <th>4</th>\n",
              "      <td>4</td>\n",
              "      <td>63</td>\n",
              "      <td>Here are the SEC requirements: The federal sec...</td>\n",
              "      <td>Jul 14 '14 at 8:10</td>\n",
              "    </tr>\n",
              "  </tbody>\n",
              "</table>\n",
              "</div>"
            ],
            "text/plain": [
              "   Unnamed: 0  ...            timestamp\n",
              "0           0  ...  Oct 03 '12 at 14:56\n",
              "1           1  ...  Sep 01 '17 at 13:36\n",
              "2           2  ...   Jun 9 '14 at 17:37\n",
              "3           3  ...      Dec 27 at 01:37\n",
              "4           4  ...   Jul 14 '14 at 8:10\n",
              "\n",
              "[5 rows x 4 columns]"
            ]
          },
          "metadata": {},
          "execution_count": 4
        }
      ]
    },
    {
      "cell_type": "code",
      "metadata": {
        "colab": {
          "base_uri": "https://localhost:8080/"
        },
        "id": "uLqfJ3Ds8Vnh",
        "outputId": "324b93c9-8264-4d27-bcef-ae63e89a1228"
      },
      "source": [
        "data.shape"
      ],
      "execution_count": null,
      "outputs": [
        {
          "output_type": "execute_result",
          "data": {
            "text/plain": [
              "(57638, 4)"
            ]
          },
          "metadata": {},
          "execution_count": 5
        }
      ]
    },
    {
      "cell_type": "code",
      "metadata": {
        "id": "gt85NkIJUVYS",
        "colab": {
          "base_uri": "https://localhost:8080/"
        },
        "outputId": "4a7e2cb1-fe38-4669-8521-2d0ae4b8ca10"
      },
      "source": [
        "import nltk\n",
        "nltk.download('stopwords')"
      ],
      "execution_count": null,
      "outputs": [
        {
          "output_type": "stream",
          "name": "stdout",
          "text": [
            "[nltk_data] Downloading package stopwords to /root/nltk_data...\n",
            "[nltk_data]   Unzipping corpora/stopwords.zip.\n"
          ]
        },
        {
          "output_type": "execute_result",
          "data": {
            "text/plain": [
              "True"
            ]
          },
          "metadata": {},
          "execution_count": 6
        }
      ]
    },
    {
      "cell_type": "code",
      "metadata": {
        "id": "ffAWL6SPUmAQ",
        "colab": {
          "base_uri": "https://localhost:8080/"
        },
        "outputId": "8c518927-30be-419f-e9cd-a1f353e45a1e"
      },
      "source": [
        "import nltk\n",
        "nltk.download('punkt')"
      ],
      "execution_count": null,
      "outputs": [
        {
          "output_type": "stream",
          "name": "stdout",
          "text": [
            "[nltk_data] Downloading package punkt to /root/nltk_data...\n",
            "[nltk_data]   Unzipping tokenizers/punkt.zip.\n"
          ]
        },
        {
          "output_type": "execute_result",
          "data": {
            "text/plain": [
              "True"
            ]
          },
          "metadata": {},
          "execution_count": 7
        }
      ]
    },
    {
      "cell_type": "code",
      "metadata": {
        "id": "42TBPIQgUoY5"
      },
      "source": [
        "import gensim\n",
        "from gensim.models import Word2Vec\n",
        "import numpy as np\n",
        "import nltk\n",
        "import itertools\n",
        "from nltk.corpus import stopwords\n",
        "from nltk.tokenize import sent_tokenize, word_tokenize\n",
        "import scipy\n",
        "from scipy import spatial\n",
        "from nltk.tokenize.toktok import ToktokTokenizer\n",
        "import re\n",
        "\n",
        "tokenizer = ToktokTokenizer()\n",
        "stopword_list = nltk.corpus.stopwords.words('english')"
      ],
      "execution_count": null,
      "outputs": []
    },
    {
      "cell_type": "code",
      "metadata": {
        "id": "MAjeN4AQVIY7",
        "colab": {
          "base_uri": "https://localhost:8080/"
        },
        "outputId": "7ed7ec57-5ced-4140-c199-98f5e1037c12"
      },
      "source": [
        "sentences=data['doc']\n",
        "sentences.head()"
      ],
      "execution_count": null,
      "outputs": [
        {
          "output_type": "execute_result",
          "data": {
            "text/plain": [
              "0    I'm not saying I don't like the idea of on-the...\n",
              "1    So nothing preventing false ratings besides ad...\n",
              "2    You can never use a health FSA for individual ...\n",
              "3    Samsung created the LCD and other flat screen ...\n",
              "4    Here are the SEC requirements: The federal sec...\n",
              "Name: doc, dtype: object"
            ]
          },
          "metadata": {},
          "execution_count": 9
        }
      ]
    },
    {
      "cell_type": "code",
      "metadata": {
        "id": "fPzB3WXvMXk6"
      },
      "source": [
        "df=data.groupby('doc').filter(lambda x:len(x)<500).reset_index(drop=True)\n"
      ],
      "execution_count": null,
      "outputs": []
    },
    {
      "cell_type": "code",
      "metadata": {
        "id": "AAVvfQWgM7YS"
      },
      "source": [
        "f=df['doc'].unique()"
      ],
      "execution_count": null,
      "outputs": []
    },
    {
      "cell_type": "code",
      "metadata": {
        "id": "Pz02YLpCNJSa"
      },
      "source": [
        "# import gensim package\n",
        "import gensim\n",
        "\n",
        "# load the saved model\n",
        "model = gensim.models.KeyedVectors.load_word2vec_format('https://s3.amazonaws.com/dl4j-distribution/GoogleNews-vectors-negative300.bin.gz', binary=True)"
      ],
      "execution_count": null,
      "outputs": []
    },
    {
      "cell_type": "code",
      "metadata": {
        "id": "Vr2Xyi-mNN1Q"
      },
      "source": [
        "# Step 7.1.4 : Create IR system\n",
        "\n",
        "# Now we build the information retrieval system:\n",
        "\n",
        "# Preprocessing\n",
        "def remove_stopwords(text, is_lower_case=False):\n",
        " pattern = r'[^a-zA-Z0-9\\s]'\n",
        " text = re.sub(pattern, \"\" , text)\n",
        " \n",
        "\n",
        " tokens = tokenizer.tokenize(text)\n",
        " tokens = [token.strip() for token in tokens]\n",
        " if is_lower_case:\n",
        "  filtered_tokens = [token for token in tokens if token not in stopword_list]\n",
        "  \n",
        " else:\n",
        "  filtered_tokens = [token for token in tokens if token.lower() not in stopword_list]\n",
        "  filtered_text = ' '.join(filtered_tokens)\n",
        "  \n",
        " return filtered_text\n",
        "\n",
        "\n",
        "# Function to get the embedding vector for n dimension, we have used \"300\"\n",
        "def get_embedding(word):\n",
        " if word in model.wv.vocab:\n",
        "  return model[word]\n",
        " else:\n",
        "  return np.zeros(300)"
      ],
      "execution_count": null,
      "outputs": []
    },
    {
      "cell_type": "code",
      "metadata": {
        "id": "QS4xtukUNSV1",
        "colab": {
          "base_uri": "https://localhost:8080/"
        },
        "outputId": "234a84ea-5587-4812-c293-46b46d917e88"
      },
      "source": [
        "\n",
        "print(len(tokenizer.tokenize(f)))\n"
      ],
      "execution_count": null,
      "outputs": [
        {
          "output_type": "stream",
          "name": "stdout",
          "text": [
            "519\n"
          ]
        }
      ]
    },
    {
      "cell_type": "code",
      "metadata": {
        "id": "YRT60Qm0NnUN",
        "colab": {
          "base_uri": "https://localhost:8080/"
        },
        "outputId": "47aa56c4-1c3c-43ff-9862-c845c4d55af0"
      },
      "source": [
        "out_dict = {}\n",
        "for sen in f:  # this loop will pick one sentence at a time from fin (final document)\n",
        " average_vector = (np.mean(np.array([get_embedding(x) for x in nltk.word_tokenize(remove_stopwords(sen))]), axis=0))\n",
        " dict = { sen : (average_vector) }\n",
        " out_dict.update(dict)\n",
        "\n",
        "# Function to calculate the similarity between the query vector and document vector\n",
        "def get_sim(query_embedding, average_vector_doc):\n",
        " sim = [(1 - scipy.spatial.distance.cosine(query_embedding, average_vector_doc))]\n",
        " return sim"
      ],
      "execution_count": null,
      "outputs": [
        {
          "output_type": "stream",
          "name": "stderr",
          "text": [
            "/usr/local/lib/python3.7/dist-packages/ipykernel_launcher.py:25: DeprecationWarning: Call to deprecated `wv` (Attribute will be removed in 4.0.0, use self instead).\n",
            "/usr/local/lib/python3.7/dist-packages/numpy/core/fromnumeric.py:3373: RuntimeWarning: Mean of empty slice.\n",
            "  out=out, **kwargs)\n",
            "/usr/local/lib/python3.7/dist-packages/numpy/core/_methods.py:170: RuntimeWarning: invalid value encountered in double_scalars\n",
            "  ret = ret.dtype.type(ret / rcount)\n"
          ]
        }
      ]
    },
    {
      "cell_type": "code",
      "metadata": {
        "id": "cVqqyvUGNuzl",
        "colab": {
          "base_uri": "https://localhost:8080/"
        },
        "outputId": "b3e026f6-b88d-4f38-9a41-53ba1a960386"
      },
      "source": [
        "print(out_dict)"
      ],
      "execution_count": null,
      "outputs": [
        {
          "output_type": "stream",
          "name": "stderr",
          "text": [
            "IOPub data rate exceeded.\n",
            "The notebook server will temporarily stop sending output\n",
            "to the client in order to avoid crashing it.\n",
            "To change this limit, set the config variable\n",
            "`--NotebookApp.iopub_data_rate_limit`.\n",
            "\n",
            "Current values:\n",
            "NotebookApp.iopub_data_rate_limit=1000000.0 (bytes/sec)\n",
            "NotebookApp.rate_limit_window=3.0 (secs)\n",
            "\n"
          ]
        }
      ]
    },
    {
      "cell_type": "code",
      "metadata": {
        "id": "YoI8P9RAN8AF"
      },
      "source": [
        "# Rank all the documents based on the similarity to get relevant docs\n",
        "def Ranked_documents(query):\n",
        " query_words = (np.mean(np.array([get_embedding(x) for x in nltk.word_tokenize(query.lower())],dtype=float), axis=0))\n",
        " rank = []\n",
        " \n",
        " for k,v in out_dict.items():\n",
        "  rank.append((k, get_sim(query_words, v)))\n",
        " \n",
        " rank = sorted(rank,key=lambda t: t[1], reverse=True)\n",
        " print('Ranked Documents :')\n",
        " return rank[:4]"
      ],
      "execution_count": null,
      "outputs": []
    },
    {
      "cell_type": "code",
      "metadata": {
        "id": "UuwH1Sd3OBYK",
        "colab": {
          "base_uri": "https://localhost:8080/"
        },
        "outputId": "fcfc67a6-0ccb-4fac-9eb6-57ae7481a872"
      },
      "source": [
        "Ranked_documents(\"What should I look at before investing in a start-up?\")"
      ],
      "execution_count": null,
      "outputs": [
        {
          "output_type": "stream",
          "name": "stderr",
          "text": [
            "/usr/local/lib/python3.7/dist-packages/ipykernel_launcher.py:25: DeprecationWarning: Call to deprecated `wv` (Attribute will be removed in 4.0.0, use self instead).\n",
            "/usr/local/lib/python3.7/dist-packages/scipy/spatial/distance.py:720: RuntimeWarning: invalid value encountered in double_scalars\n",
            "  dist = 1.0 - uv / np.sqrt(uu * vv)\n"
          ]
        },
        {
          "output_type": "stream",
          "name": "stdout",
          "text": [
            "Ranked Documents :\n"
          ]
        },
        {
          "output_type": "execute_result",
          "data": {
            "text/plain": [
              "[(\"First off, you have done very well to be in your financial position at your age. Congratulations.  I first started investing seriously about 10 years ago, and when I started, I had a similar attitude to you. Learning how to invest is a journey, and it will take you a while to learn both the intellectual and emotional sides of investing. First off, there is nothing wrong with having a chunk of cash that you aren't investing effectively. It is far better to be losing earning power WRT inflation that it is to make a bad investment, where you can lose all your money quite quickly. I have perhaps 15% of my capital just sitting around right now because I don't have any place where I'm excited to put it. For your IRA, I would look at the options you have, and choose one that is reasonably well diversified and has low costs. In most cases, an index fund is a reasonable choice. My 401K goes into an S&P 500 index fund, and I don't have to worry about it. Beyond that, I suggest spending some time learning about investing, and then making some small and conservative investments. I've learned a lot from the Motley Fool web site.\",\n",
              "  [0.789852058008676]),\n",
              " ('You are effectively \\'making\\' 3.8% right now. By maintaining a loan at 0% vs the 3.8% you\\'d otherwise pay, you are ahead by that percent.  Now, if you borrowed at 3.8%, and made 7.6% on your investments, taxes aside, you\\'d break even. you are exactly ahead by the same 3.8%.  It seems to me that with a break-even of 7.6%, you\\'d be taking a risk based on the market return over the next few years. In a sense, that\\'s true for any of us, but in your case, you are not deciding where to put idle cash, you already have the 3.8% option of \"leave well enough alone.\" This is where I\\'d quote Harry Callahan - \\'you\\'ve gotta ask yourself one question: \"Do I feel lucky?\" Well, do ya, punk?\\'',\n",
              "  [0.7686649332364128]),\n",
              " ('I\\'m no accountant, but I think the way I\\'d want to approach this kind of thing in Gnucash would be to track it as an Asset, since it is. It sounds like your actual concern is that your tracked asset value isn\\'t reflecting its current \"market\" value. Presumably because it\\'s risky it\\'s also illiquid, so you\\'re not sure how much value it should have on your books. Your approach suggested here of having it as just as expense gives it a 0 value as an asset, but without tracking that there\\'s something that you own. The two main approaches to tracking an investment in Gnucash are: Of course, both of these approaches do assume that you have some notion of your investment\\'s \"current value\", which is what you\\'re tracking. As the section on Estimating Valuation of the concepts guide says of valuing illiquid assets, \"There is no hard rule on this, and in fact different accountants may prefer to do this differently.\" If you really think that the investment isn\\'t worth anything at the moment, then I suppose you should track it at 0, but presumably you think it\\'s worth something or you wouldn\\'t have bought it, right? Even if it\\'s just for your personal records, part of a regular (maybe annual?) review of your investments should include coming up with what you currently value that investment at (perhaps your best guess of what you could sell it for, assuming that you could find a willing buyer), and updating your records accordingly. Of course, if you need a valuation for a bank or for tax purposes or the like, they have more specific rules about how they are tracking what things are worth, but presumably you\\'re trying to track your personal assets for your own reasons to get a handle on what you currently own. So, do that! Take the time to get a handle on the worth of what you currently own. And don\\'t worry about getting the value wrong, just take your best guess, since you can always update it later when you learn new information about what your investment is worth.',\n",
              "  [0.7667346807071718]),\n",
              " ('Thanks for the info, things are starting to make more sense now. For some reason I\\'ve always neglected learning about investments, now that Im in a position to invest (and am still fairly young) I\\'m motivated to start learning.   As for help with TD Ameritrade, I was looking into Index Funds (as another commenter mentioned that I should) on their site and am a little overwhelmed with the options. First, I\\'m looking at Mutual Funds, going to symbol lookup and using type = \"indeces\". I\\'m assuming that\\'s the same thing as an \"Index Fund\" but since the language is slightly different I\\'m not 100% sure. However, at that point I need some kind of search for a symbol in order to see any results (makes sense, but I dont know where to start looking for \"good\" index funds).    So my first question is: If I FIND a good mutual fund, is it correct to simply go to \"Buy Mutual Funds\" and find it from there? and if so, my second question is: How do I find a good mutual fund?   My goal is to have my money in something that will likely grow faster than a savings account. I don\\'t mind a little volatility, I can afford to lose my investment, I\\'d plan on leaving my money in the fund for a several years at least.   My last question is: When investing in these types of funds (or please point me in another direction if you think Index Funds aren\\'t the place for me to start) should I be reinvesting in the funds, or having them pay out dividends? I would assume that reinvesting is the smart choice, but I can imagine situations that might change that in order to mitigate risk...and as I\\'ve said a few times in this thread including the title, I\\'m a complete amateur so my assumptions aren\\'t necessarily worth that much.   Thanks for the help, I really appreciate all the info so far.',\n",
              "  [0.7663251953153657])]"
            ]
          },
          "metadata": {},
          "execution_count": 19
        }
      ]
    },
    {
      "cell_type": "code",
      "metadata": {
        "id": "PTAcXSF_OI2L",
        "colab": {
          "base_uri": "https://localhost:8080/"
        },
        "outputId": "7b868f2b-e588-42de-e2c4-3efc29330a1a"
      },
      "source": [
        "Ranked_documents(\"Are Stcoks good option to invest your money?\")"
      ],
      "execution_count": null,
      "outputs": [
        {
          "output_type": "stream",
          "name": "stderr",
          "text": [
            "/usr/local/lib/python3.7/dist-packages/ipykernel_launcher.py:25: DeprecationWarning: Call to deprecated `wv` (Attribute will be removed in 4.0.0, use self instead).\n",
            "/usr/local/lib/python3.7/dist-packages/scipy/spatial/distance.py:720: RuntimeWarning: invalid value encountered in double_scalars\n",
            "  dist = 1.0 - uv / np.sqrt(uu * vv)\n"
          ]
        },
        {
          "output_type": "stream",
          "name": "stdout",
          "text": [
            "Ranked Documents :\n"
          ]
        },
        {
          "output_type": "execute_result",
          "data": {
            "text/plain": [
              "[('You have a few correlated questions here:  Yes you can. There are only a few investment strategies that require a minimum contribution and those aren\\'t ones that would get a blanket recommendation anyway. Investing in bonds or stocks is perfectly possible with limited funds. You\\'re never too young to start. The power of interest means that the more time you give your money to grow, the larger your eventual gains will be (provided your investment is beating inflation). If your financial situation allows it, it makes sense to invest money you don\\'t need immediately, which brings us to: This is the one you have to look at most. You\\'re young but have a nice chunk of cash in a savings account. That money won\\'t grow much and you could be losing purchasing power to inflation but on the other hand that money also isn\\'t at risk. While there are dozens of investment options1 the two main ones to look at are: bonds: these are fixed income, which means they\\'re fairly safe, but the downside is that you need to lock up your money for a long time to get a better interest rate than a savings account index funds that track the market: these are basically another form of stock where each share represents fractions of shares of other companies that are tracked on an index such as the S&P 500 or Nasdaq. These are much riskier and more volatile, which is why you should look at this as a long-term investment as well because given enough time these are expected to trend upwards. Look into index funds further to understand why. But this isn\\'t so much about what you should invest in, but more about the fact that an investment, almost by definition, means putting money away for a long period of time. So the real question remains: how much can you afford to put away? For that you need to look at your individual situation and your plans for the future. Do you need that money to pay for expenses in the coming years? Do you want to save it up for college? Do you want to invest and leave it untouched to inspire you to keep saving? Do you want to save for retirement? (I\\'m not sure if you can start saving via IRAs and the like at your age but it\\'s worth looking into.) Or do you want to spend it on a dream holiday or a car? There are arguments to be made for every one of those.  Most people will tell you to keep such a \"low\" sum in a savings account as an emergency fund but that also depends on whether you have a safety net (i.e. parents) and how reliable they are. Most people will also tell you that your long-term money should be in the stock market in the form of a balanced portfolio of index funds. But I won\\'t tell you what to do since you need to look at your own options and decide for yourself what makes sense for you. You\\'re off to a great start if you\\'re thinking about this at your age and I\\'d encourage you to take that interest further and look into educating yourself on the investments options and funds that are available to you and decide on a financial plan. Involving your parents in that is sensible, not in the least because your post-high school plans will be the most important variable in said plan. To recap my first point and answer your main question, if you\\'ve decided that you want to invest and you\\'ve established a specific budget, the size of that investment budget should not factor into what you invest it in. 1 - For the record: penny stocks are not an investment. They\\'re an expensive form of gambling.',\n",
              "  [0.829972135538409]),\n",
              " ('This is only a partial answer to your question #1. If you have a conservative approach to savings (and, actually, even if you don\\'t), you should not invest all of your money in any single industry or product.  If you want to invest some money in oil, okay, but don\\'t overdo it. If your larger goal is to invest the money in a manner that is less risky but still more lucrative than a savings account, you should read up on personal finance and investing to get a sense of what options are available.  A commonly-recommended option is to invest in low-cost index funds that mirror the performance of the stock market as a whole.  The question of \"how should I invest\" is very broad, but you can find lots of starting points in other questions on this site, by googling, or by visiting your local library.',\n",
              "  [0.8267272853199054]),\n",
              " ('Average return on the S&P500 over the last 10 years has been 1.6 %; so if you\\'d invested in that with money borrowed at 3 % you would have lost (so far). Investing with borrowed money implies you think you can beat the market: that you\\'re a cleverer investor than whoever decided to lend you the money. Whoever decided to lend you the money decided that you are the best (return/risk ratio) investment for their money. It might make sense to invest borrowed money if you don\\'t need to pay it back if things go wrong: if you\\'re an investment professional whose bonus depends on the profit you make, but who won\\'t need to repay any loss. It might also makes sense to borrow money if you\\'re going to \\'add value\\', e.g. sweat equity: for example if you use it to renovate a house or (if you\\'re a business) to hire more staff. But the question was \"What guidelines do you use\" and the answer is, \"I don\\'t make passive investments with borrowed money.\" My Dad did it, i.e. didn\\'t repay his mortgage as soon as he could have: but that was because (back in the \\'70s) he had a long-term (government-sponsored) mortgage for about 1.5 % (designed to help first-time buyers or something like that), at a time when banks were paying higher interest rates on (ultra-safe) deposits.',\n",
              "  [0.8216717996208516]),\n",
              " (\"If you have little investing experience, you shouldn't involve yourself in leveraged investments or short-term speculation at all.  You will probably just lose money. If not, is there a better way to invest with a small amount of money? If you have little investing experience, you should not attempt to make a lot of money on a small investment at all.  You will probably just lose money. The best way to invest with a small amount of money is to put it in a low-cost, mainstream investment product (like an index fund), and wait and save money until you have more.  By that time, you may decide that leaving the money in a low-cost index fund is actually the best thing to do anyway.  (Incidentally, I don't know if fund minimums are different in the UK, but in the US, an amount equivalent to £100 might not even be enough to start, so you might have to just put it in a savings account until you save enough to even buy into a mutual fund.)\",\n",
              "  [0.8164451515294673])]"
            ]
          },
          "metadata": {},
          "execution_count": 22
        }
      ]
    },
    {
      "cell_type": "code",
      "metadata": {
        "id": "JnfbrDLScll3",
        "colab": {
          "base_uri": "https://localhost:8080/"
        },
        "outputId": "f49e8ebd-7efe-4a0d-e29e-763a6d41e8b4"
      },
      "source": [
        "Ranked_documents(\"Which is the best stock available currently?\")"
      ],
      "execution_count": null,
      "outputs": [
        {
          "output_type": "stream",
          "name": "stderr",
          "text": [
            "/usr/local/lib/python3.7/dist-packages/ipykernel_launcher.py:25: DeprecationWarning: Call to deprecated `wv` (Attribute will be removed in 4.0.0, use self instead).\n",
            "/usr/local/lib/python3.7/dist-packages/scipy/spatial/distance.py:720: RuntimeWarning: invalid value encountered in double_scalars\n",
            "  dist = 1.0 - uv / np.sqrt(uu * vv)\n"
          ]
        },
        {
          "output_type": "stream",
          "name": "stdout",
          "text": [
            "Ranked Documents :\n"
          ]
        },
        {
          "output_type": "execute_result",
          "data": {
            "text/plain": [
              "[('Price for the latest transaction. If the stock is selling for  $898.7 means that the stock is currently trading for  $898.7, and it will be your ask price of stock if you purchase currently.',\n",
              "  [0.7418820523308783]),\n",
              " ('If you are not worried about timing the market and want to buy primarily \"blue chip\" stocks to hold for a while, consider using Loyal3. They don\\'t charge any commission. The downside is that trades are executed at the end of the day and there\\'s only about 60 companies currently available (but there are some really good ones currently available).',\n",
              "  [0.7325417822012723]),\n",
              " (\"There are 2 primary ways to bet against a stock if you think it will decline. The first is to short sell shares of that stock the second is to buy put options (I would also add that selling naked call options would also be a bet against but I don't believe that is as common as the other 2 mentioned methods). The problem with short selling an IPO is that you first have to borrow the shares you are going to sell. Since the shares are privately held prior to the IPO that can be problematic. Even after the IPO you may have to wait a bit before shares become available to borrow.  The problem with options (either buying puts or seeking naked calls) is similar. Options are traded on a different exchange than the stock and they have their own requirements that a stock must meet to have options traded. Both of these problems eventually correct themselves however, not in time for you to catch the initial fall you seem to be looking for.\",\n",
              "  [0.7192834863934281]),\n",
              " (\"As far as I know, the AMT implications are the same for a privately held company as for one that is publicly traded.  When I was given my ISO package, it came with a big package of articles on AMT to encourage me to exercise as close to the strike price as possible.  Remember that the further the actual price at the time of purchase is from the strike price, the more the likely liability for AMT.  That is an argument for buying early.  Your company should have a common metric for determining the price of the stock that is vetted by outside sources and stable from year to year that is used in a similar way to the publicly traded value when determining AMT liability. During acquisitions stock options often, from what I know of my industry, at least, become options in the new company's stock.  This won't always happen, but its possible that your options will simply translate.  This can be valuable, because the price of stock during acquisition may triple or quadruple (unless the acquisition is helping out a very troubled company). As long as you are confident that the company will one day be acquired rather than fold and you are able to hold the stock until that one day comes, or you'll be able to sell it back at a likely gain, other than tying up the money I don't see much of a downside to investing now.\",\n",
              "  [0.713615700047254])]"
            ]
          },
          "metadata": {},
          "execution_count": 23
        }
      ]
    },
    {
      "cell_type": "code",
      "metadata": {
        "id": "1trNUSCoczve",
        "colab": {
          "base_uri": "https://localhost:8080/"
        },
        "outputId": "9921ef23-9ad8-4848-d747-603d35fc2b49"
      },
      "source": [
        "Ranked_documents(\"What are the risks of Dividend-yielding stocks?\")"
      ],
      "execution_count": null,
      "outputs": [
        {
          "output_type": "stream",
          "name": "stderr",
          "text": [
            "/usr/local/lib/python3.7/dist-packages/ipykernel_launcher.py:25: DeprecationWarning: Call to deprecated `wv` (Attribute will be removed in 4.0.0, use self instead).\n",
            "/usr/local/lib/python3.7/dist-packages/scipy/spatial/distance.py:720: RuntimeWarning: invalid value encountered in double_scalars\n",
            "  dist = 1.0 - uv / np.sqrt(uu * vv)\n"
          ]
        },
        {
          "output_type": "stream",
          "name": "stdout",
          "text": [
            "Ranked Documents :\n"
          ]
        },
        {
          "output_type": "execute_result",
          "data": {
            "text/plain": [
              "[('You\\'re talking about money in a savings account, and avoiding the risks posed by an ongoing crisis, and avoiding risk. If you are risk-averse, and likely to need your money in the short term, you should not put your money in the stock market, even in \"safe\" stocks like P&G/Coca-Cola/etc. Even these safe stocks are at risk of wild price swings in the short- to intermediate-term, especially in the event of international crises such as major European debt defaults and the like. These stocks are suitable for long-term growth objectives, but they are not as a replacement for a savings account. Coca-Cola lost a third of its value between 2007 and 2009. (It\\'s recovered, and is currently doing better than ever.) P&G went from $74/share to $46/share. (It\\'s partially recovered and back at $63). On the other hand, these stocks may indeed be suitable as long-term investments to protect you against local currency inflation. And yes, they even pay dividends. If you\\'re after this investment, a good option is probably a sector-specific exchange-traded fund, such as a consumer-staples ETF. It will likely be more diversified and safer than anything you could come up with using a list of individual stocks. You can also investigate recommendations that show up when you search for a \"defensive ETF\". If you do not wish to buy the ETF directly, you can also look at listings of the ETF\\'s holdings. Read the prospectus for an idea of the risks associated with these funds. You can buy these funds with any brokerage that gives you access to US stock exchanges.',\n",
              "  [0.7791497708326917]),\n",
              " ('So you\\'re basically saying that average market fluctuations have an affect on individual stocks, because individual stocks are often priced in relation to the growth of the market as a whole?  Also, what kinds of investments would be considered \"risk free\" in this nomenclature?',\n",
              "  [0.7777076795773861]),\n",
              " ('Who are the losers going to be? If you can tell me for certain which firms will do worst in a bear market and can time it so that this information is not already priced into the market then you can make money. If not don\\'t try. In a bull market stocks tend to act \"normally\" with established patterns such as correlations acting as expected and stocks more or less pricing to their fundamentals. In a bear market fear tends to overrule all of those things. You get large drops on relatively minor bad news and modest rallies on even the best news which results in stocks being undervalued against their fundamentals. In the crash itself it is quite easy to make money shorting. In an environment where stocks are undervalued, such as a bear market, you run the risk that your short, no matter how sure you are that the stock will fall, is seen as being undervalued and will rise. In fact your selling of a \"losing\" stock might cause it to hit levels where value investors already have limits set. This could bring a LOT of buyers into the market. Due to the fact that correlations break down creating portfolios with the correct risk level, which is what funds are required to do not only by their contracts but also by law to an extent, is extremely difficult. Risk management (keeping all kinds to within certain bounds) is one of the most difficult parts of a manager\\'s job and is even difficult in abnormal market conditions. In the long run (definitions may vary) stock prices in general go up (for those companies who aren\\'t bankrupted at least) so shorting in a bear market is not a long term strategy either and will not produce long term returns on capital. In addition to this risk you run the risk that your counterparty (such as Lehman brothers?) will file for bankruptcy and you won\\'t be able to cover the position before the lender wants you to repay their stock to them landing you in even more problems.',\n",
              "  [0.7637158978756589]),\n",
              " (\"There is no ideal number of stocks you should own. There are several factors you should consider though. First, how actively do you want to manage your portfolio. If you want to be very active then the number of stocks you own should be based on the amount of time you have to research the company, by reading SEC filings and listening to conference calls, so you are not surprised when the company reports every quarter. If you don't want to be very active, then you are better off buying solid companies that have a good reputation and good history of performance.  Second, you should decide how much risk you are willing to take. If you have $10,000 that you can afford to lose, then you can put your money into more risky stocks or into fewer stocks, which could potentially have a higher return. If you want your $10,000 grow (or lose) with the market, better off, again, going with the good rep and history stocks or a variety of stocks.  Third, this goes along with your risk to some extent, but you should consider if you are looking for short term or long term gains? If you are looking to put your money in the market for the short term, you will probably be looking at fewer stocks with more money in each. If you are looking for long term, you will be around 5 stocks that you swap as they reach goals you set out for each stock.  In my opinion, and I am not a financial expert, I like to stay at around 5 companies, mostly for the fact that it is about the ideal number of companies to keep track of.\",\n",
              "  [0.763618375039544])]"
            ]
          },
          "metadata": {},
          "execution_count": 27
        }
      ]
    },
    {
      "cell_type": "code",
      "metadata": {
        "id": "8eDi6LLFcAa0",
        "colab": {
          "base_uri": "https://localhost:8080/"
        },
        "outputId": "e808b691-8d98-4779-dd48-a35909b55710"
      },
      "source": [
        "Ranked_documents(\"In what age we should start investing?\")"
      ],
      "execution_count": null,
      "outputs": [
        {
          "output_type": "stream",
          "name": "stderr",
          "text": [
            "/usr/local/lib/python3.7/dist-packages/ipykernel_launcher.py:25: DeprecationWarning: Call to deprecated `wv` (Attribute will be removed in 4.0.0, use self instead).\n",
            "/usr/local/lib/python3.7/dist-packages/scipy/spatial/distance.py:720: RuntimeWarning: invalid value encountered in double_scalars\n",
            "  dist = 1.0 - uv / np.sqrt(uu * vv)\n"
          ]
        },
        {
          "output_type": "stream",
          "name": "stdout",
          "text": [
            "Ranked Documents :\n"
          ]
        },
        {
          "output_type": "execute_result",
          "data": {
            "text/plain": [
              "[(\"First off, you have done very well to be in your financial position at your age. Congratulations.  I first started investing seriously about 10 years ago, and when I started, I had a similar attitude to you. Learning how to invest is a journey, and it will take you a while to learn both the intellectual and emotional sides of investing. First off, there is nothing wrong with having a chunk of cash that you aren't investing effectively. It is far better to be losing earning power WRT inflation that it is to make a bad investment, where you can lose all your money quite quickly. I have perhaps 15% of my capital just sitting around right now because I don't have any place where I'm excited to put it. For your IRA, I would look at the options you have, and choose one that is reasonably well diversified and has low costs. In most cases, an index fund is a reasonable choice. My 401K goes into an S&P 500 index fund, and I don't have to worry about it. Beyond that, I suggest spending some time learning about investing, and then making some small and conservative investments. I've learned a lot from the Motley Fool web site.\",\n",
              "  [0.8079929201946187]),\n",
              " (\"I don't like your strategy.  Don't wait.  Open an investment account today with a low cost providers and put those funds into a low cost investment that represents as much of the market as you can find. I am going to start by assuming you are a really smart person.  With that assumption I am going to assume you can see details and trends and read into the lines.  As a computer programmer I am going to assume you are pretty task oriented, and that you look for optimal solutions. Now I am going to ask you to step back.  You are clearly very good at managing your money, but I believe you are over-thinking your opportunity. Reading your question, you need a starting place (and some managed expectations), so here is your plan: Now that you have a personal retirement account (IRA, Roth IRA, MyRA?) and perhaps a 401(k) (or equivalent) at work, you can start to select which investments go into that account.  I know that was your question, but things you said in your question made me wonder if you had all of that clear in your head. The key point here is don't wait.  You won't be able to time the market; certainly not consistently.  Get in NOW and stay in.  You adjust your investments based on your risk tolerance as you age, and you adjust your investments based on your wealth and needs.  But get in NOW.   Over the course of 40 years you are likely to be working, sometimes the market will be up, and sometimes the market will be down; but keep buying in.  Because every day you are in, you money can grow; and over 40 years the chances that you will grow substantially is pretty high.  No need to wait, start growing today. Things I didn't discuss but are important to you:\",\n",
              "  [0.802836097788319]),\n",
              " (\"Yes, you can indeed become rich by investing even small amounts over time. Let's say that you begin with nothing invested, and you start investing $100 per week. Suppose you choose to put your money in an S&P 500 index mutual fund. The CAGR (Compound Annual Growth Rate) of the S&P 500 over the last 35 years has been about 11%. (That 35 years includes at least two fairly serious crashes.) You may get more or less than that number in the future, but let's guess that you'll average 9%. 35 years from now, you would be a millionaire ($1.2 Million, actually). This math works out for anyone, no matter who your parents are, where you are from, where you went to school, etc. Yes, you have a better chance of becoming wealthy the more you invest, the longer you have to stay invested, and the better choices you make in your investments.  By starting early, you will maximize your time invested, which allows you the flexibility to be more conservative in your investments and to invest smaller amounts.  But for those with a shorter time to invest, it is still doable for most people.  Get your financial life under control by eliminating your debt, setting a household budget, and investing for the future.\",\n",
              "  [0.7928581370544849]),\n",
              " (\"First of all kudos to you for seeing the value in saving at a young age. There are several different things you can mean by this and I'm not sure which is accurate so I am going to address the first two that I thought of. If you are selling your investments because you need the money (emergency expenses, saved enough for a short term goal, whatever the reason) then this may not be the best solution for your savings.  Investing in mutual funds, ETFs, stocks, 401k, IRA, etc are typically for longer term goals such as a goal that is 10+ years away (maybe buying a home, paying for college for your children, retirement, etc). If you are selling your investments because you believe that another investment is performing better and you want to get in on that one instead what I would suggest is leaving the money you have invested where it is and starting future investments in the new fund/ETF you are interested in.  For example if you have $2000 invested in fund X and now you do some research and fund Q looks more appealing that is great, start investing in fund Q with your next deposit.  Any research you do will be based on past results, there is nothing that guarantees that fund Q will continue doing better than the fund X you already have.  Trying to time the market rarely ends well for the investor. I would encourage you to continue saving money a bit at a time just like you have been doing.  Avoid selling your investments until it is time to sell them for whatever goal you intended them for.  Set aside some cash to cover any unexpected expenses so you won't have to sell your investments to cover the costs, even at 18 unplanned things happen.\",\n",
              "  [0.7848320484488])]"
            ]
          },
          "metadata": {},
          "execution_count": 28
        }
      ]
    }
  ]
}